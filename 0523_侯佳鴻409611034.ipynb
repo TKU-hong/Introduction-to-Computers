{
  "nbformat": 4,
  "nbformat_minor": 0,
  "metadata": {
    "colab": {
      "name": "0523 侯佳鴻409611034.ipynb",
      "provenance": [],
      "authorship_tag": "ABX9TyMmPZUrDu4jPogFEN6O6plE",
      "include_colab_link": true
    },
    "kernelspec": {
      "name": "python3",
      "display_name": "Python 3"
    },
    "language_info": {
      "name": "python"
    }
  },
  "cells": [
    {
      "cell_type": "markdown",
      "metadata": {
        "id": "view-in-github",
        "colab_type": "text"
      },
      "source": [
        "<a href=\"https://colab.research.google.com/github/TKU-hong/Introduction-to-Computers/blob/main/0523_%E4%BE%AF%E4%BD%B3%E9%B4%BB409611034.ipynb\" target=\"_parent\"><img src=\"https://colab.research.google.com/assets/colab-badge.svg\" alt=\"Open In Colab\"/></a>"
      ]
    },
    {
      "cell_type": "code",
      "execution_count": 2,
      "metadata": {
        "colab": {
          "base_uri": "https://localhost:8080/"
        },
        "id": "A4CTDog7JAIg",
        "outputId": "d0de67cf-84de-47ca-8cce-2e755d2d2f2b"
      },
      "outputs": [
        {
          "output_type": "stream",
          "name": "stdout",
          "text": [
            "0523\n"
          ]
        }
      ],
      "source": [
        "print(\"0523\")"
      ]
    },
    {
      "cell_type": "code",
      "source": [
        "sum = 0\n",
        "test = int(input(\"請輸入一個正整數:\"))\n",
        "for n in range(1,test+1):\n",
        "  sum = sum+n\n",
        "print(\"1到\",test,\"的整數和為\",sum)"
      ],
      "metadata": {
        "colab": {
          "base_uri": "https://localhost:8080/"
        },
        "id": "n6XlmmkjBGCP",
        "outputId": "b8dc3c2b-4462-4462-efd8-b757d1d5a3f0"
      },
      "execution_count": 2,
      "outputs": [
        {
          "output_type": "stream",
          "name": "stdout",
          "text": [
            "請輸入一個正整數:10\n",
            "1到 10 的整數和為 55\n"
          ]
        }
      ]
    },
    {
      "cell_type": "code",
      "source": [
        "sum = 0\n",
        "test=int(input(\"請輸入一個正整數：\"))\n",
        "for m in range(1,test+1):\n",
        "   sum = sum+n\n",
        "   print(\"1到\",str(m),\"的整數和為\",sum)"
      ],
      "metadata": {
        "colab": {
          "base_uri": "https://localhost:8080/"
        },
        "id": "PoROXzjnDG1Y",
        "outputId": "923a47db-5f71-4c6b-a49c-68dd69681852"
      },
      "execution_count": 19,
      "outputs": [
        {
          "output_type": "stream",
          "name": "stdout",
          "text": [
            "請輸入一個正整數：50\n",
            "1到 1 的整數和為 1\n",
            "1到 2 的整數和為 2\n",
            "1到 3 的整數和為 3\n",
            "1到 4 的整數和為 4\n",
            "1到 5 的整數和為 5\n",
            "1到 6 的整數和為 6\n",
            "1到 7 的整數和為 7\n",
            "1到 8 的整數和為 8\n",
            "1到 9 的整數和為 9\n",
            "1到 10 的整數和為 10\n",
            "1到 11 的整數和為 11\n",
            "1到 12 的整數和為 12\n",
            "1到 13 的整數和為 13\n",
            "1到 14 的整數和為 14\n",
            "1到 15 的整數和為 15\n",
            "1到 16 的整數和為 16\n",
            "1到 17 的整數和為 17\n",
            "1到 18 的整數和為 18\n",
            "1到 19 的整數和為 19\n",
            "1到 20 的整數和為 20\n",
            "1到 21 的整數和為 21\n",
            "1到 22 的整數和為 22\n",
            "1到 23 的整數和為 23\n",
            "1到 24 的整數和為 24\n",
            "1到 25 的整數和為 25\n",
            "1到 26 的整數和為 26\n",
            "1到 27 的整數和為 27\n",
            "1到 28 的整數和為 28\n",
            "1到 29 的整數和為 29\n",
            "1到 30 的整數和為 30\n",
            "1到 31 的整數和為 31\n",
            "1到 32 的整數和為 32\n",
            "1到 33 的整數和為 33\n",
            "1到 34 的整數和為 34\n",
            "1到 35 的整數和為 35\n",
            "1到 36 的整數和為 36\n",
            "1到 37 的整數和為 37\n",
            "1到 38 的整數和為 38\n",
            "1到 39 的整數和為 39\n",
            "1到 40 的整數和為 40\n",
            "1到 41 的整數和為 41\n",
            "1到 42 的整數和為 42\n",
            "1到 43 的整數和為 43\n",
            "1到 44 的整數和為 44\n",
            "1到 45 的整數和為 45\n",
            "1到 46 的整數和為 46\n",
            "1到 47 的整數和為 47\n",
            "1到 48 的整數和為 48\n",
            "1到 49 的整數和為 49\n",
            "1到 50 的整數和為 50\n"
          ]
        }
      ]
    },
    {
      "cell_type": "code",
      "source": [
        "for j in range(1,5):\n",
        "    print(j)\n",
        "    for i in range(1,3):\n",
        "        k=i*j\n",
        "        print(j,\"*\",i,\"=\",k)"
      ],
      "metadata": {
        "colab": {
          "base_uri": "https://localhost:8080/"
        },
        "id": "3Y_SIQTXpgTe",
        "outputId": "4e9c59d8-86df-498a-e9c2-b477f070faaf"
      },
      "execution_count": 20,
      "outputs": [
        {
          "output_type": "stream",
          "name": "stdout",
          "text": [
            "1\n",
            "1 * 1 = 1\n",
            "1 * 2 = 2\n",
            "2\n",
            "2 * 1 = 2\n",
            "2 * 2 = 4\n",
            "3\n",
            "3 * 1 = 3\n",
            "3 * 2 = 6\n",
            "4\n",
            "4 * 1 = 4\n",
            "4 * 2 = 8\n"
          ]
        }
      ]
    },
    {
      "cell_type": "code",
      "source": [
        "for i in range(1,5):\n",
        "    if(i==4):\n",
        "       break\n",
        "    print(i,end=\" \")\n",
        "    "
      ],
      "metadata": {
        "colab": {
          "base_uri": "https://localhost:8080/"
        },
        "id": "Lh4bY-jOvlWh",
        "outputId": "e1286734-cbe6-4426-9294-4fe7d3c76b2c"
      },
      "execution_count": 21,
      "outputs": [
        {
          "output_type": "stream",
          "name": "stdout",
          "text": [
            "1 2 3 "
          ]
        }
      ]
    },
    {
      "cell_type": "code",
      "source": [
        "count=0\n",
        "for string in '測試看看！':\n",
        "    count+=1\n",
        "    if string == '看':\n",
        "         break\n",
        "    print(string)\n",
        "\n",
        "print('迴圈結束')\n",
        "print('迴圈執行了 %d 次' %count)"
      ],
      "metadata": {
        "colab": {
          "base_uri": "https://localhost:8080/"
        },
        "id": "MGSbnfavwGeU",
        "outputId": "fec0bafd-8e1a-4b1f-f81a-5323b7d8e83e"
      },
      "execution_count": 37,
      "outputs": [
        {
          "output_type": "stream",
          "name": "stdout",
          "text": [
            "測\n",
            "試\n",
            "迴圈結束\n",
            "迴圈執行了 3 次\n"
          ]
        }
      ]
    },
    {
      "cell_type": "code",
      "source": [
        "for i in range(1,10):\n",
        "    for j in range(1,10):\n",
        "        print(i,\"*\",j,\"=\",i*j,\"\\t\",sep=\"\",end=\"\")\n",
        "    print()"
      ],
      "metadata": {
        "colab": {
          "base_uri": "https://localhost:8080/"
        },
        "id": "g21NA0QIyk55",
        "outputId": "9cc11ed7-495f-4e6d-9d80-c8687f0ff585"
      },
      "execution_count": 38,
      "outputs": [
        {
          "output_type": "stream",
          "name": "stdout",
          "text": [
            "1*1=1\t1*2=2\t1*3=3\t1*4=4\t1*5=5\t1*6=6\t1*7=7\t1*8=8\t1*9=9\t\n",
            "2*1=2\t2*2=4\t2*3=6\t2*4=8\t2*5=10\t2*6=12\t2*7=14\t2*8=16\t2*9=18\t\n",
            "3*1=3\t3*2=6\t3*3=9\t3*4=12\t3*5=15\t3*6=18\t3*7=21\t3*8=24\t3*9=27\t\n",
            "4*1=4\t4*2=8\t4*3=12\t4*4=16\t4*5=20\t4*6=24\t4*7=28\t4*8=32\t4*9=36\t\n",
            "5*1=5\t5*2=10\t5*3=15\t5*4=20\t5*5=25\t5*6=30\t5*7=35\t5*8=40\t5*9=45\t\n",
            "6*1=6\t6*2=12\t6*3=18\t6*4=24\t6*5=30\t6*6=36\t6*7=42\t6*8=48\t6*9=54\t\n",
            "7*1=7\t7*2=14\t7*3=21\t7*4=28\t7*5=35\t7*6=42\t7*7=49\t7*8=56\t7*9=63\t\n",
            "8*1=8\t8*2=16\t8*3=24\t8*4=32\t8*5=40\t8*6=48\t8*7=56\t8*8=64\t8*9=72\t\n",
            "9*1=9\t9*2=18\t9*3=27\t9*4=36\t9*5=45\t9*6=54\t9*7=63\t9*8=72\t9*9=81\t\n"
          ]
        }
      ]
    },
    {
      "cell_type": "code",
      "source": [
        "def gcd(a,b):\n",
        "    if b == 0:\n",
        "        return a\n",
        "    else:\n",
        "        return gcd(b,a%b)\n",
        "\n",
        "def lcm(a,b):\n",
        "\treturn a * b // gcd(a,b)\n",
        "a=int(input(\"請輸入a的值：\"))\n",
        "b=int(input(\"請輸入b的值：\"))\n",
        "\n",
        "print(\"a\",\"和\",\"b\",\"的最小公倍數=\",lcm(a,b))"
      ],
      "metadata": {
        "colab": {
          "base_uri": "https://localhost:8080/"
        },
        "id": "a_GHgLFN0OD-",
        "outputId": "c0081a50-6db9-4172-a2a6-1f17ea58c9c0"
      },
      "execution_count": 55,
      "outputs": [
        {
          "output_type": "stream",
          "name": "stdout",
          "text": [
            "請輸入a的值：4\n",
            "請輸入b的值：6\n",
            "a 和 b 的最小公倍數= 12\n"
          ]
        }
      ]
    },
    {
      "cell_type": "code",
      "source": [
        "def gcd(a,b):\n",
        "    if b == 0:\n",
        "        return a\n",
        "    else:\n",
        "        return gcd(b,a%b)\n",
        "\n",
        "def lcm(a,b):\n",
        "\treturn a * b // gcd(a,b)\n",
        "a=int(input(\"請輸入a的值：\"))\n",
        "b=int(input(\"請輸入b的值：\"))\n",
        "\n",
        "print(\"a\",\"和\",\"b\",\"的最小公倍數=\",lcm(a,b))"
      ],
      "metadata": {
        "colab": {
          "base_uri": "https://localhost:8080/"
        },
        "id": "UwyLEWoe4-yq",
        "outputId": "a8a35eb2-8ecf-4083-b497-6e0ff148afe3"
      },
      "execution_count": 56,
      "outputs": [
        {
          "output_type": "stream",
          "name": "stdout",
          "text": [
            "請輸入a的值：9\n",
            "請輸入b的值：15\n",
            "a 和 b 的最小公倍數= 45\n"
          ]
        }
      ]
    },
    {
      "cell_type": "code",
      "source": [
        "n=int(input(\"請輸入正整數:\"))\n",
        "\n",
        "for i in range(1,n+1):\n",
        "    if(i%5==0):\n",
        "       continue\n",
        "    print(i,end=\" \")"
      ],
      "metadata": {
        "colab": {
          "base_uri": "https://localhost:8080/"
        },
        "id": "ytdw8L3q5GAL",
        "outputId": "7ea645c4-25f0-43d4-f859-24967e68280c"
      },
      "execution_count": 60,
      "outputs": [
        {
          "output_type": "stream",
          "name": "stdout",
          "text": [
            "請輸入正整數:12\n",
            "1 2 3 4 6 7 8 9 11 12 "
          ]
        }
      ]
    },
    {
      "cell_type": "code",
      "source": [
        "n=int(input(\"請輸入正整數:\"))\n",
        "\n",
        "for i in range(1,n+1):\n",
        "    if(i%5==0):\n",
        "       continue\n",
        "    print(i,end=\" \")"
      ],
      "metadata": {
        "colab": {
          "base_uri": "https://localhost:8080/"
        },
        "id": "hr_ZCHhn9Jg5",
        "outputId": "56d275e8-161a-4751-8eec-e7ece062c0ce"
      },
      "execution_count": 61,
      "outputs": [
        {
          "output_type": "stream",
          "name": "stdout",
          "text": [
            "請輸入正整數:21\n",
            "1 2 3 4 6 7 8 9 11 12 13 14 16 17 18 19 21 "
          ]
        }
      ]
    }
  ]
}