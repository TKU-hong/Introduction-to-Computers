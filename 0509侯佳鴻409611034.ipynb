{
  "nbformat": 4,
  "nbformat_minor": 0,
  "metadata": {
    "colab": {
      "name": "0509侯佳鴻409611034.ipynb",
      "provenance": [],
      "authorship_tag": "ABX9TyP6G3GX/9sdc52HGRUWWASr",
      "include_colab_link": true
    },
    "kernelspec": {
      "name": "python3",
      "display_name": "Python 3"
    },
    "language_info": {
      "name": "python"
    }
  },
  "cells": [
    {
      "cell_type": "markdown",
      "metadata": {
        "id": "view-in-github",
        "colab_type": "text"
      },
      "source": [
        "<a href=\"https://colab.research.google.com/github/TKU-hong/Introduction-to-Computers/blob/main/0509%E4%BE%AF%E4%BD%B3%E9%B4%BB409611034.ipynb\" target=\"_parent\"><img src=\"https://colab.research.google.com/assets/colab-badge.svg\" alt=\"Open In Colab\"/></a>"
      ]
    },
    {
      "cell_type": "code",
      "execution_count": 1,
      "metadata": {
        "colab": {
          "base_uri": "https://localhost:8080/"
        },
        "id": "1Wf3JGqukaGY",
        "outputId": "d0b18497-bf85-4a62-cfa9-518e5ccc8ca3"
      },
      "outputs": [
        {
          "output_type": "stream",
          "name": "stdout",
          "text": [
            "123\n"
          ]
        }
      ],
      "source": [
        "print(\"123\")"
      ]
    },
    {
      "cell_type": "code",
      "source": [
        "temp=float(input(\"請輸入你的體溫\"))\n",
        "if temp >= 37.5:\n",
        "  print(\"體溫過高！\")\n",
        "elif temp >= 37 and temp < 37.4:\n",
        "    print(\"體溫略高！\")\n",
        "\n",
        "else:\n",
        "      print(\"體溫異常，請重新量測！\")"
      ],
      "metadata": {
        "colab": {
          "base_uri": "https://localhost:8080/"
        },
        "id": "RzlA7s4QkeGL",
        "outputId": "4591d82b-db56-42d4-ebfc-826ecccd714c"
      },
      "execution_count": 14,
      "outputs": [
        {
          "output_type": "stream",
          "name": "stdout",
          "text": [
            "請輸入你的體溫33.9\n",
            "體溫異常，請重新量測！\n"
          ]
        }
      ]
    },
    {
      "cell_type": "code",
      "source": [
        "season = int(input(\"請使用者輸入月份：\"))\n",
        "if (season >= 3, <= 5):\n",
        "  print(\"是春天！！\")\n",
        "elif (season = 6,7,8 ):\n",
        "    print(\"是夏天！\")\n",
        "elif (season = 9,10,11 ):\n",
        "    print(\"是秋天！\")\n",
        "elif (season = 12,1,2 ):\n",
        "    print(\"是冬天！\")\n",
        "else:\n",
        "      print(\"月份不在範圍內！\")"
      ],
      "metadata": {
        "colab": {
          "base_uri": "https://localhost:8080/",
          "height": 137
        },
        "id": "cjl9dl82uFZg",
        "outputId": "9448d7b7-ed0b-444b-c433-cd8c93ff8ac6"
      },
      "execution_count": 59,
      "outputs": [
        {
          "output_type": "error",
          "ename": "SyntaxError",
          "evalue": "ignored",
          "traceback": [
            "\u001b[0;36m  File \u001b[0;32m\"<ipython-input-59-6e0365b21c96>\"\u001b[0;36m, line \u001b[0;32m2\u001b[0m\n\u001b[0;31m    if (season >= 3, <= 5):\u001b[0m\n\u001b[0m                      ^\u001b[0m\n\u001b[0;31mSyntaxError\u001b[0m\u001b[0;31m:\u001b[0m invalid syntax\n"
          ]
        }
      ]
    },
    {
      "cell_type": "code",
      "source": [
        "score=input(\"請輸入成績\")\n",
        "if (int(score) >= 90) :\n",
        "  print(\"A\")\n",
        "elif (int(score) >= 80):\n",
        "  print(\"B\")\n",
        "elif (int(score) >= 70):\n",
        "  print(\"C\")\n",
        "elif (int(score) >= 60):\n",
        "  print(\"D\")\n",
        "else:\n",
        "  print(\"E\")"
      ],
      "metadata": {
        "colab": {
          "base_uri": "https://localhost:8080/"
        },
        "id": "yKulL9tLmsEQ",
        "outputId": "2155f626-7131-47a8-a8b1-55f046ac7059"
      },
      "execution_count": 15,
      "outputs": [
        {
          "output_type": "stream",
          "name": "stdout",
          "text": [
            "請輸入成績50\n",
            "E\n"
          ]
        }
      ]
    },
    {
      "cell_type": "code",
      "source": [
        "tax = int(input(\"請輸入今年收入淨額：\"))\n",
        "if(tax >= 0):\n",
        "  if(tax >= 2000000):\n",
        "    print(\"付稅金額\",money * 0.3, end = \"元\\n\")\n",
        "  elif(tax >= 1000000):\n",
        "    print(\"付稅金額\",money * 0.21, end = \"元\\n\")\n",
        "  elif(tax >= 600000):\n",
        "    print(\"付稅金額\",money * 0.13, end = \"元\\n\")\n",
        "  elif(tax >= 300000):\n",
        "    print(\"付稅金額\",money * 0.06, end = \"元\\n\")\n",
        "  else:\n",
        "    print(\"付稅金額\",money * 0, end = \"元\\n\")\n"
      ],
      "metadata": {
        "colab": {
          "base_uri": "https://localhost:8080/"
        },
        "id": "5ckiNd74qOag",
        "outputId": "b4d4a2f5-1c26-4525-8da8-105ee675cf19"
      },
      "execution_count": 38,
      "outputs": [
        {
          "output_type": "stream",
          "name": "stdout",
          "text": [
            "請輸入今年收入淨額：100000\n",
            "付稅金額 0元\n"
          ]
        }
      ]
    },
    {
      "cell_type": "code",
      "source": [
        "money = int(input(\"請輸入購物金額：\"))\n",
        "if(money >= 10000):\n",
        "  if(money >= 100000):\n",
        "    print(\"八折\",money * 0.8, end = \"元\\n\")\n",
        "  elif(money >= 50000):\n",
        "    print(\"八五折\",money * 0.85, end = \"元\\n\")\n",
        "  elif(money >= 30000):\n",
        "    print(\"九折\",money * 0.9, end = \"元\\n\")\n",
        "  else:\n",
        "    print(\"九五折\",money * 0.95, end = \"元\\n\")\n",
        "else:\n",
        "  print(\"沒打折\",money, end= \"元\\n\")"
      ],
      "metadata": {
        "colab": {
          "base_uri": "https://localhost:8080/"
        },
        "id": "1ZgzjtRunrfG",
        "outputId": "d88b6742-aef9-4578-df4c-c0b3f655b4f4"
      },
      "execution_count": 16,
      "outputs": [
        {
          "output_type": "stream",
          "name": "stdout",
          "text": [
            "請輸入購物金額：50000\n",
            "八五折 42500.0元\n"
          ]
        }
      ]
    }
  ]
}