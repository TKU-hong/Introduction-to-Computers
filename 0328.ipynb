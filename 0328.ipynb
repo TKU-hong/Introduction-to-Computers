{
  "nbformat": 4,
  "nbformat_minor": 0,
  "metadata": {
    "colab": {
      "name": "0328.ipynb",
      "provenance": [],
      "authorship_tag": "ABX9TyMjHNUEgQfIKBkyvOhyrJsn",
      "include_colab_link": true
    },
    "kernelspec": {
      "name": "python3",
      "display_name": "Python 3"
    },
    "language_info": {
      "name": "python"
    }
  },
  "cells": [
    {
      "cell_type": "markdown",
      "metadata": {
        "id": "view-in-github",
        "colab_type": "text"
      },
      "source": [
        "<a href=\"https://colab.research.google.com/github/TKU-hong/Introduction-to-Computers/blob/main/0328.ipynb\" target=\"_parent\"><img src=\"https://colab.research.google.com/assets/colab-badge.svg\" alt=\"Open In Colab\"/></a>"
      ]
    },
    {
      "cell_type": "code",
      "execution_count": 1,
      "metadata": {
        "colab": {
          "base_uri": "https://localhost:8080/"
        },
        "id": "gXyJnMn2Md8L",
        "outputId": "8c21ffaa-03a9-4e13-8158-1c9f9c8af072"
      },
      "outputs": [
        {
          "output_type": "stream",
          "name": "stdout",
          "text": [
            "Hi\n"
          ]
        }
      ],
      "source": [
        "print('Hi')"
      ]
    },
    {
      "cell_type": "code",
      "source": [
        "34%3"
      ],
      "metadata": {
        "colab": {
          "base_uri": "https://localhost:8080/"
        },
        "id": "WJLWjSzEQECn",
        "outputId": "2058c39e-4096-4e0b-9eac-f5a2a12970df"
      },
      "execution_count": 2,
      "outputs": [
        {
          "output_type": "execute_result",
          "data": {
            "text/plain": [
              "1"
            ]
          },
          "metadata": {},
          "execution_count": 2
        }
      ]
    },
    {
      "cell_type": "code",
      "source": [
        "3**2"
      ],
      "metadata": {
        "colab": {
          "base_uri": "https://localhost:8080/"
        },
        "id": "1OsIQaHhQKT6",
        "outputId": "6f52cfdc-97ba-435d-8670-0d80c9199ea3"
      },
      "execution_count": 3,
      "outputs": [
        {
          "output_type": "execute_result",
          "data": {
            "text/plain": [
              "9"
            ]
          },
          "metadata": {},
          "execution_count": 3
        }
      ]
    },
    {
      "cell_type": "code",
      "source": [
        "3**3"
      ],
      "metadata": {
        "colab": {
          "base_uri": "https://localhost:8080/"
        },
        "id": "DyYy5yZzQMbH",
        "outputId": "64b488d9-9fee-4476-9572-50195f8221a5"
      },
      "execution_count": 4,
      "outputs": [
        {
          "output_type": "execute_result",
          "data": {
            "text/plain": [
              "27"
            ]
          },
          "metadata": {},
          "execution_count": 4
        }
      ]
    },
    {
      "cell_type": "code",
      "source": [
        "上底 = int(input('請輸入梯形上底長度:'))\n",
        "下底 = int(input('請輸入梯形下底長度：'))\n",
        "高 = int(input('請輸入梯形的高度：'))\n",
        "面積 = (上底 + 下底) * 高 / 2"
      ],
      "metadata": {
        "colab": {
          "base_uri": "https://localhost:8080/"
        },
        "id": "3rbThFPKQgK_",
        "outputId": "946082ea-8abc-4c8d-c9e3-ae8efdbdd4fd"
      },
      "execution_count": 5,
      "outputs": [
        {
          "name": "stdout",
          "output_type": "stream",
          "text": [
            "請輸入梯形上底長度:3\n",
            "請輸入梯形下底長度：4\n",
            "請輸入梯形的高度：3\n"
          ]
        }
      ]
    },
    {
      "cell_type": "code",
      "source": [
        "面積"
      ],
      "metadata": {
        "colab": {
          "base_uri": "https://localhost:8080/"
        },
        "id": "hPrv4FYDQ692",
        "outputId": "ed601be1-69b8-4101-d841-ab08b953cf81"
      },
      "execution_count": 6,
      "outputs": [
        {
          "output_type": "execute_result",
          "data": {
            "text/plain": [
              "10.5"
            ]
          },
          "metadata": {},
          "execution_count": 6
        }
      ]
    },
    {
      "cell_type": "code",
      "source": [
        "上底 = int(input('請輸入梯形上底長度:'))\n",
        "下底 = int(input('請輸入梯形下底長度：'))\n",
        "高 = int(input('請輸入梯形的高度：'))\n",
        "面積 = (上底 + 下底) * 高 / 2\n",
        "print('梯形上底長度為:',上底,'梯形下底長度為:',下底,'梯形高度為:',高,'梯形面積為:',面積)"
      ],
      "metadata": {
        "colab": {
          "base_uri": "https://localhost:8080/"
        },
        "id": "6xuudPbHUobC",
        "outputId": "e95137b3-3551-43db-aa29-8ebad3b620b9"
      },
      "execution_count": 8,
      "outputs": [
        {
          "output_type": "stream",
          "name": "stdout",
          "text": [
            "請輸入梯形上底長度:3\n",
            "請輸入梯形下底長度：4\n",
            "請輸入梯形的高度：3\n",
            "梯形上底長度為: 3 梯形下底長度為: 4 梯形高度為: 3 梯形面積為: 10.5\n"
          ]
        }
      ]
    },
    {
      "cell_type": "code",
      "source": [
        "print('梯形上底長度為：％d，梯形下底長度為：％d，梯形高度為：％d，高梯形面積為：％d' %(上底，下底，高，面積))"
      ],
      "metadata": {
        "colab": {
          "base_uri": "https://localhost:8080/",
          "height": 137
        },
        "id": "L6LSv2tLWCBQ",
        "outputId": "fa742e98-6c65-46b2-c521-2c3205c248f8"
      },
      "execution_count": 24,
      "outputs": [
        {
          "output_type": "error",
          "ename": "SyntaxError",
          "evalue": "ignored",
          "traceback": [
            "\u001b[0;36m  File \u001b[0;32m\"<ipython-input-24-80b7f75e7f67>\"\u001b[0;36m, line \u001b[0;32m1\u001b[0m\n\u001b[0;31m    print('梯形上底長度為：％d，梯形下底長度為：％d，梯形高度為：％d，高梯形面積為：％d' %(上底，下底，高，面積))\u001b[0m\n\u001b[0m                                                                ^\u001b[0m\n\u001b[0;31mSyntaxError\u001b[0m\u001b[0;31m:\u001b[0m invalid character in identifier\n"
          ]
        }
      ]
    },
    {
      "cell_type": "code",
      "source": [
        "print('梯形上底長度為：％d，梯形下底長度為：％d，梯形高度為：％d，高梯形面積為：％f' %(上底，下底，高，面積))"
      ],
      "metadata": {
        "colab": {
          "base_uri": "https://localhost:8080/",
          "height": 137
        },
        "id": "AgNgIy08cq2M",
        "outputId": "c4cc3813-cbab-4c1f-8644-d14e5146d46a"
      },
      "execution_count": 25,
      "outputs": [
        {
          "output_type": "error",
          "ename": "SyntaxError",
          "evalue": "ignored",
          "traceback": [
            "\u001b[0;36m  File \u001b[0;32m\"<ipython-input-25-3ab398ca3a5f>\"\u001b[0;36m, line \u001b[0;32m1\u001b[0m\n\u001b[0;31m    print('梯形上底長度為：％d，梯形下底長度為：％d，梯形高度為：％d，高梯形面積為：％f' %(上底，下底，高，面積))\u001b[0m\n\u001b[0m                                                                ^\u001b[0m\n\u001b[0;31mSyntaxError\u001b[0m\u001b[0;31m:\u001b[0m invalid character in identifier\n"
          ]
        }
      ]
    },
    {
      "cell_type": "code",
      "source": [
        "a=1.1\n",
        "b=2.02\n",
        "c=3.003"
      ],
      "metadata": {
        "id": "NSzuSHeLc1JK"
      },
      "execution_count": 29,
      "outputs": []
    },
    {
      "cell_type": "code",
      "source": [
        "print('a=%0.1f, b=%0.2f, c=%0.3f'%(a,b,c))"
      ],
      "metadata": {
        "colab": {
          "base_uri": "https://localhost:8080/"
        },
        "id": "LetOVX_8dFQp",
        "outputId": "f4145dcd-cd99-466d-c3af-13b0ef1f5e3d"
      },
      "execution_count": 30,
      "outputs": [
        {
          "output_type": "stream",
          "name": "stdout",
          "text": [
            "a=1.1, b=2.02, c=3.003\n"
          ]
        }
      ]
    },
    {
      "cell_type": "code",
      "source": [
        "6+9=2+13"
      ],
      "metadata": {
        "colab": {
          "base_uri": "https://localhost:8080/",
          "height": 137
        },
        "id": "A4MDiXi4eI2w",
        "outputId": "3be1f470-10f0-4852-bd52-2dc21b7a43f4"
      },
      "execution_count": 32,
      "outputs": [
        {
          "output_type": "error",
          "ename": "SyntaxError",
          "evalue": "ignored",
          "traceback": [
            "\u001b[0;36m  File \u001b[0;32m\"<ipython-input-32-d6106eabe9c5>\"\u001b[0;36m, line \u001b[0;32m1\u001b[0m\n\u001b[0;31m    6+9=2+13\u001b[0m\n\u001b[0m            ^\u001b[0m\n\u001b[0;31mSyntaxError\u001b[0m\u001b[0;31m:\u001b[0m can't assign to operator\n"
          ]
        }
      ]
    }
  ]
}