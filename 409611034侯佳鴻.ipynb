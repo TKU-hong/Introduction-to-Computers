{
  "nbformat": 4,
  "nbformat_minor": 0,
  "metadata": {
    "colab": {
      "name": "409611034侯佳鴻.ipynb",
      "provenance": [],
      "authorship_tag": "ABX9TyNML4PVJ/cnglUtX2fcded7",
      "include_colab_link": true
    },
    "kernelspec": {
      "name": "python3",
      "display_name": "Python 3"
    },
    "language_info": {
      "name": "python"
    }
  },
  "cells": [
    {
      "cell_type": "markdown",
      "metadata": {
        "id": "view-in-github",
        "colab_type": "text"
      },
      "source": [
        "<a href=\"https://colab.research.google.com/github/TKU-hong/Introduction-to-Computers/blob/main/409611034%E4%BE%AF%E4%BD%B3%E9%B4%BB.ipynb\" target=\"_parent\"><img src=\"https://colab.research.google.com/assets/colab-badge.svg\" alt=\"Open In Colab\"/></a>"
      ]
    },
    {
      "cell_type": "code",
      "execution_count": 1,
      "metadata": {
        "colab": {
          "base_uri": "https://localhost:8080/"
        },
        "id": "hhqdffQD40GB",
        "outputId": "208cff35-dd23-483b-932a-72f076954b37"
      },
      "outputs": [
        {
          "output_type": "stream",
          "name": "stdout",
          "text": [
            "10.5\n"
          ]
        }
      ],
      "source": [
        "a=2\n",
        "b=5\n",
        "h=3\n",
        "print((a+b)*h/2)"
      ]
    },
    {
      "cell_type": "code",
      "source": [
        "a=2\n",
        "b=3\n",
        "c=1\n",
        "X=(-b+(b**2-4*a*c)**0.5)/(2*a)\n",
        "Y=(-b-(b**2-4*a*c)**0.5)/(2*a)\n",
        "print(X)\n",
        "print(Y)"
      ],
      "metadata": {
        "colab": {
          "base_uri": "https://localhost:8080/"
        },
        "id": "ZJPTkbe_5H9B",
        "outputId": "479dc1d7-6e4a-4f7b-c44d-042c1ed826ab"
      },
      "execution_count": 3,
      "outputs": [
        {
          "output_type": "stream",
          "name": "stdout",
          "text": [
            "-0.5\n",
            "-1.0\n"
          ]
        }
      ]
    },
    {
      "cell_type": "code",
      "source": [
        "print(\"請輸入a\")\n",
        "a=int(input())\n",
        "print(\"請輸入b\")\n",
        "b=int(input())\n",
        "print(\"請輸入c\")\n",
        "c=int(input())\n",
        "X=(-b+(b**2-4*a*c)**0.5)/(2*a)\n",
        "Y=(-b-(b**2-4*a*c)**0.5)/(2*a)\n",
        "print(X)\n",
        "print(Y)"
      ],
      "metadata": {
        "colab": {
          "base_uri": "https://localhost:8080/"
        },
        "id": "7ZTOUYpLG9Xg",
        "outputId": "f8e5ecf1-49ee-4902-fb34-0a6c60470ec4"
      },
      "execution_count": 4,
      "outputs": [
        {
          "output_type": "stream",
          "name": "stdout",
          "text": [
            "請輸入a\n",
            "2\n",
            "請輸入b\n",
            "3\n",
            "請輸入c\n",
            "1\n",
            "-0.5\n",
            "-1.0\n"
          ]
        }
      ]
    }
  ]
}