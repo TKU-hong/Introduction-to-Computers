{
  "nbformat": 4,
  "nbformat_minor": 0,
  "metadata": {
    "colab": {
      "name": "409611034侯佳鴻.ipynb",
      "provenance": [],
      "authorship_tag": "ABX9TyMbzeShibdwO2CiEib3IO0M",
      "include_colab_link": true
    },
    "kernelspec": {
      "name": "python3",
      "display_name": "Python 3"
    },
    "language_info": {
      "name": "python"
    }
  },
  "cells": [
    {
      "cell_type": "markdown",
      "metadata": {
        "id": "view-in-github",
        "colab_type": "text"
      },
      "source": [
        "<a href=\"https://colab.research.google.com/github/TKU-hong/Introduction-to-Computers/blob/main/409611034%E4%BE%AF%E4%BD%B3%E9%B4%BB.ipynb\" target=\"_parent\"><img src=\"https://colab.research.google.com/assets/colab-badge.svg\" alt=\"Open In Colab\"/></a>"
      ]
    },
    {
      "cell_type": "code",
      "execution_count": 4,
      "metadata": {
        "colab": {
          "base_uri": "https://localhost:8080/"
        },
        "id": "25eogKOyC7DL",
        "outputId": "6aedc626-ff97-4f4f-ba40-312cb283f9f2"
      },
      "outputs": [
        {
          "output_type": "stream",
          "name": "stdout",
          "text": [
            "{'類型': '近戰', 'atk': 80, 'hp': 1300, '護甲': 16}\n"
          ]
        }
      ],
      "source": [
        "minion={\"類型\":\"近戰\",\"atk\":80,\"hp\":1300}\n",
        "minion[\"護甲\"]=16\n",
        "print(minion)"
      ]
    },
    {
      "cell_type": "code",
      "source": [
        "warrior_minion={\"atk\":80,\"hp\":1300,\"def\":16}\n",
        "distance_minion={\"atk\":120,\"hp\":485,\"def\":0}\n",
        "minion={\"近戰\":warrior_minion,\"遠程\":distance_minion}\n",
        "\n",
        "print(minion[\"遠程\"][\"atk\"])"
      ],
      "metadata": {
        "colab": {
          "base_uri": "https://localhost:8080/"
        },
        "id": "ci4Kz_SBIe1P",
        "outputId": "03e8f8f8-d9c6-49d5-89cb-576b1439e1c3"
      },
      "execution_count": 5,
      "outputs": [
        {
          "output_type": "stream",
          "name": "stdout",
          "text": [
            "120\n"
          ]
        }
      ]
    },
    {
      "cell_type": "code",
      "source": [
        "amy_score={\"math\":90,\"language\":95}\n",
        "betty_score={\"math\":100,\"language\":97}\n",
        "cindy_score={\"math\":85,\"language\":88}\n",
        "dora_score={\"math\":77,\"language\":90}\n",
        "eva_score={\"math\":93,\"language\":91}\n",
        "score={\"艾咪\":amy_score,\"貝蒂\":betty_score,\"辛蒂\":cindy_score,\"朵拉\":dora_score,\"伊娃\":eva_score}\n",
        "\n",
        "print(score[\"辛蒂\"][\"math\"])"
      ],
      "metadata": {
        "colab": {
          "base_uri": "https://localhost:8080/"
        },
        "id": "bpSSFjCGCoav",
        "outputId": "65b9c9f6-bcd4-46e3-db82-dff23e9b7282"
      },
      "execution_count": 11,
      "outputs": [
        {
          "output_type": "stream",
          "name": "stdout",
          "text": [
            "85\n"
          ]
        }
      ]
    }
  ]
}