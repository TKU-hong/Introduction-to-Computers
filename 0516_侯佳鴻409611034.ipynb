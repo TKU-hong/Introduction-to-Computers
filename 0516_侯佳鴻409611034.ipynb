{
  "nbformat": 4,
  "nbformat_minor": 0,
  "metadata": {
    "colab": {
      "name": "0516 侯佳鴻409611034.ipynb",
      "provenance": [],
      "authorship_tag": "ABX9TyPR2fPx4tGZqAFZnJsiYt2G",
      "include_colab_link": true
    },
    "kernelspec": {
      "name": "python3",
      "display_name": "Python 3"
    },
    "language_info": {
      "name": "python"
    }
  },
  "cells": [
    {
      "cell_type": "markdown",
      "metadata": {
        "id": "view-in-github",
        "colab_type": "text"
      },
      "source": [
        "<a href=\"https://colab.research.google.com/github/TKU-hong/Introduction-to-Computers/blob/main/0516_%E4%BE%AF%E4%BD%B3%E9%B4%BB409611034.ipynb\" target=\"_parent\"><img src=\"https://colab.research.google.com/assets/colab-badge.svg\" alt=\"Open In Colab\"/></a>"
      ]
    },
    {
      "cell_type": "code",
      "execution_count": 1,
      "metadata": {
        "colab": {
          "base_uri": "https://localhost:8080/"
        },
        "id": "eXLvRrsMsplz",
        "outputId": "bbacf3b4-8b61-4723-fc76-7d03ede5112a"
      },
      "outputs": [
        {
          "output_type": "stream",
          "name": "stdout",
          "text": [
            "123\n"
          ]
        }
      ],
      "source": [
        "print(123)"
      ]
    },
    {
      "cell_type": "code",
      "source": [
        "i=range(5)"
      ],
      "metadata": {
        "id": "3ISdPPA_tBwa"
      },
      "execution_count": 2,
      "outputs": []
    },
    {
      "cell_type": "code",
      "source": [
        "print(type(i))"
      ],
      "metadata": {
        "colab": {
          "base_uri": "https://localhost:8080/"
        },
        "id": "Ovh_j5V5tFKX",
        "outputId": "57993859-a8bd-4775-8126-9978cd959090"
      },
      "execution_count": 3,
      "outputs": [
        {
          "output_type": "stream",
          "name": "stdout",
          "text": [
            "<class 'range'>\n"
          ]
        }
      ]
    },
    {
      "cell_type": "code",
      "source": [
        "print(i)"
      ],
      "metadata": {
        "colab": {
          "base_uri": "https://localhost:8080/"
        },
        "id": "qMgnB8UQtJ1I",
        "outputId": "7a1aaaab-bae9-48d1-c46e-58ea1a090e10"
      },
      "execution_count": 4,
      "outputs": [
        {
          "output_type": "stream",
          "name": "stdout",
          "text": [
            "range(0, 5)\n"
          ]
        }
      ]
    },
    {
      "cell_type": "code",
      "source": [
        "print(list(i))"
      ],
      "metadata": {
        "colab": {
          "base_uri": "https://localhost:8080/"
        },
        "id": "yWAtiel9tMAl",
        "outputId": "d824af6a-e395-44c1-955d-37aac110f5c6"
      },
      "execution_count": 5,
      "outputs": [
        {
          "output_type": "stream",
          "name": "stdout",
          "text": [
            "[0, 1, 2, 3, 4]\n"
          ]
        }
      ]
    },
    {
      "cell_type": "code",
      "source": [
        "a=range(3,8)\n",
        "print(list(a))"
      ],
      "metadata": {
        "colab": {
          "base_uri": "https://localhost:8080/"
        },
        "id": "Mf96x-4CtPi8",
        "outputId": "1492d72a-e313-4fde-880e-a5549bc09918"
      },
      "execution_count": 6,
      "outputs": [
        {
          "output_type": "stream",
          "name": "stdout",
          "text": [
            "[3, 4, 5, 6, 7]\n"
          ]
        }
      ]
    },
    {
      "cell_type": "code",
      "source": [
        "b=range(-2,4)\n",
        "print(list(b))"
      ],
      "metadata": {
        "colab": {
          "base_uri": "https://localhost:8080/"
        },
        "id": "HS9fZqq-tYix",
        "outputId": "5650b53f-22bc-4ba9-97de-2e988096af21"
      },
      "execution_count": 7,
      "outputs": [
        {
          "output_type": "stream",
          "name": "stdout",
          "text": [
            "[-2, -1, 0, 1, 2, 3]\n"
          ]
        }
      ]
    },
    {
      "cell_type": "code",
      "source": [
        "c=range(3,8,1)\n",
        "print(list(c))"
      ],
      "metadata": {
        "colab": {
          "base_uri": "https://localhost:8080/"
        },
        "id": "Wv2HY9kZtoOF",
        "outputId": "b2e0e5b7-0600-456d-ec0b-2296de059688"
      },
      "execution_count": 8,
      "outputs": [
        {
          "output_type": "stream",
          "name": "stdout",
          "text": [
            "[3, 4, 5, 6, 7]\n"
          ]
        }
      ]
    },
    {
      "cell_type": "code",
      "source": [
        "f=range(9)\n",
        "print(list(f))"
      ],
      "metadata": {
        "colab": {
          "base_uri": "https://localhost:8080/"
        },
        "id": "om-Q0fCWtxI1",
        "outputId": "145c5ebc-3f98-4027-fc57-283876e9aa49"
      },
      "execution_count": 9,
      "outputs": [
        {
          "output_type": "stream",
          "name": "stdout",
          "text": [
            "[0, 1, 2, 3, 4, 5, 6, 7, 8]\n"
          ]
        }
      ]
    },
    {
      "cell_type": "code",
      "source": [
        "g=range(1,10)\n",
        "print(list(g))"
      ],
      "metadata": {
        "colab": {
          "base_uri": "https://localhost:8080/"
        },
        "id": "blXd0zTNt64c",
        "outputId": "f16a91ac-9f78-4aeb-f890-761cb567aa47"
      },
      "execution_count": 10,
      "outputs": [
        {
          "output_type": "stream",
          "name": "stdout",
          "text": [
            "[1, 2, 3, 4, 5, 6, 7, 8, 9]\n"
          ]
        }
      ]
    },
    {
      "cell_type": "code",
      "source": [
        "h=range(1,10,2)\n",
        "print(list(h))"
      ],
      "metadata": {
        "colab": {
          "base_uri": "https://localhost:8080/"
        },
        "id": "w7_nv0lJuAS2",
        "outputId": "9b4ece9d-b3ce-4738-e3bb-00e8c6a1312f"
      },
      "execution_count": 13,
      "outputs": [
        {
          "output_type": "stream",
          "name": "stdout",
          "text": [
            "[1, 3, 5, 7, 9]\n"
          ]
        }
      ]
    },
    {
      "cell_type": "code",
      "source": [
        "i=range(10,1,-2)\n",
        "print(list(i))"
      ],
      "metadata": {
        "colab": {
          "base_uri": "https://localhost:8080/"
        },
        "id": "o7_ZhtaJuMKB",
        "outputId": "eb6ec7a6-6dab-4868-e756-4be840a16e6f"
      },
      "execution_count": 14,
      "outputs": [
        {
          "output_type": "stream",
          "name": "stdout",
          "text": [
            "[10, 8, 6, 4, 2]\n"
          ]
        }
      ]
    },
    {
      "cell_type": "code",
      "source": [
        "for n in range(3):\n",
        "    print(n)"
      ],
      "metadata": {
        "colab": {
          "base_uri": "https://localhost:8080/"
        },
        "id": "sF7QmTisuWhQ",
        "outputId": "4e6ea069-da7e-4cec-c490-534fab687d2f"
      },
      "execution_count": 15,
      "outputs": [
        {
          "output_type": "stream",
          "name": "stdout",
          "text": [
            "0\n",
            "1\n",
            "2\n"
          ]
        }
      ]
    },
    {
      "cell_type": "code",
      "source": [
        "for n in range(10):\n",
        "    print(n,end=\",\")"
      ],
      "metadata": {
        "colab": {
          "base_uri": "https://localhost:8080/"
        },
        "id": "2oGDkMrhui4y",
        "outputId": "843fef68-e0fd-4111-bd1f-2e10fb629f2c"
      },
      "execution_count": 16,
      "outputs": [
        {
          "output_type": "stream",
          "name": "stdout",
          "text": [
            "0,1,2,3,4,5,6,7,8,9,"
          ]
        }
      ]
    },
    {
      "cell_type": "code",
      "source": [
        "for n in range(0,10,2):\n",
        "    print(n,end=\",\")"
      ],
      "metadata": {
        "colab": {
          "base_uri": "https://localhost:8080/"
        },
        "id": "l31kX4m4upjs",
        "outputId": "86324c3b-2870-4ca2-832e-394cbad06c64"
      },
      "execution_count": 17,
      "outputs": [
        {
          "output_type": "stream",
          "name": "stdout",
          "text": [
            "0,2,4,6,8,"
          ]
        }
      ]
    },
    {
      "cell_type": "code",
      "source": [
        "test=int(input(\"請輸入一個正整數：\"))\n",
        "for m in range(1,test+1):\n",
        " print(m,end=\",\")"
      ],
      "metadata": {
        "colab": {
          "base_uri": "https://localhost:8080/"
        },
        "id": "3m7iS_jSu2ol",
        "outputId": "8fb096d3-0dbc-44c5-e2bb-1eae538f546a"
      },
      "execution_count": 20,
      "outputs": [
        {
          "output_type": "stream",
          "name": "stdout",
          "text": [
            "請輸入一個正整數：12\n",
            "1,2,3,4,5,6,7,8,9,10,11,12,"
          ]
        }
      ]
    },
    {
      "cell_type": "code",
      "source": [
        "sum = 0\n",
        "for n in range(3):\n",
        "   sum=sum+n\n",
        "print(sum)"
      ],
      "metadata": {
        "colab": {
          "base_uri": "https://localhost:8080/"
        },
        "id": "yPd-PwZwvLyE",
        "outputId": "25abec64-3ca0-40ab-e349-fd1140493b0f"
      },
      "execution_count": 22,
      "outputs": [
        {
          "output_type": "stream",
          "name": "stdout",
          "text": [
            "3\n"
          ]
        }
      ]
    },
    {
      "cell_type": "code",
      "source": [
        "sum = 0\n",
        "for n in range(10,1,-2):\n",
        "  sum=sum+n\n",
        "print(sum)"
      ],
      "metadata": {
        "colab": {
          "base_uri": "https://localhost:8080/"
        },
        "id": "JYOuWHInvmLl",
        "outputId": "04442c95-0006-4ccc-b377-433697c77877"
      },
      "execution_count": 23,
      "outputs": [
        {
          "output_type": "stream",
          "name": "stdout",
          "text": [
            "30\n"
          ]
        }
      ]
    },
    {
      "cell_type": "code",
      "source": [
        "test=int(input(\"請輸入一個正整數：\"))\n",
        "sum = 0\n",
        "for test in range(0,test,1):\n",
        "  sum=sum+test+1\n",
        "print(sum)"
      ],
      "metadata": {
        "colab": {
          "base_uri": "https://localhost:8080/"
        },
        "id": "gUNOd4adv_Zj",
        "outputId": "2a4d73f4-b083-42f3-e5b1-921823db4089"
      },
      "execution_count": 40,
      "outputs": [
        {
          "output_type": "stream",
          "name": "stdout",
          "text": [
            "請輸入一個正整數：10\n",
            "55\n"
          ]
        }
      ]
    },
    {
      "cell_type": "code",
      "source": [
        "test=int(input(\"請輸入一個正整數：\"))\n",
        "sum = 0\n",
        "for test in range(0,test,1):\n",
        "  sum=sum+test+1\n",
        "print(sum)"
      ],
      "metadata": {
        "colab": {
          "base_uri": "https://localhost:8080/"
        },
        "id": "ZncjvUrP6PmK",
        "outputId": "57b14441-35ed-43f1-f830-d8c9650c719c"
      },
      "execution_count": 41,
      "outputs": [
        {
          "output_type": "stream",
          "name": "stdout",
          "text": [
            "請輸入一個正整數：50\n",
            "1275\n"
          ]
        }
      ]
    },
    {
      "cell_type": "code",
      "source": [
        "test=int(input(\"請輸入一個正整數：\"))\n",
        "sum = 0\n",
        "for test in range(0,test,1):\n",
        "  sum=sum+test+1\n",
        "print(sum)\n",
        "test=int(input(\"請輸入一個正整數：\"))\n",
        "sum = 0\n",
        "for test in range(0,test,1):\n",
        "  sum=sum+test+1\n",
        "print(sum)\n",
        "test=int(input(\"請輸入一個正整數：\"))\n",
        "sum = 0\n",
        "for test in range(0,test,1):\n",
        "  sum=sum+test+1\n",
        "print(sum)\n",
        "test=int(input(\"請輸入一個正整數：\"))\n",
        "sum = 0\n",
        "for test in range(0,test,1):\n",
        "  sum=sum+test+1\n",
        "print(sum)\n",
        "test=int(input(\"請輸入一個正整數：\"))\n",
        "sum = 0\n",
        "for test in range(0,test,1):\n",
        "  sum=sum+test+1\n",
        "print(sum)\n",
        "test=int(input(\"請輸入一個正整數：\"))\n",
        "sum = 0\n",
        "for test in range(0,test,1):\n",
        "  sum=sum+test+1\n",
        "print(sum)\n",
        "test=int(input(\"請輸入一個正整數：\"))\n",
        "sum = 0\n",
        "for test in range(0,test,1):\n",
        "  sum=sum+test+1\n",
        "print(sum)\n",
        "test=int(input(\"請輸入一個正整數：\"))\n",
        "sum = 0\n",
        "for test in range(0,test,1):\n",
        "  sum=sum+test+1\n",
        "print(sum)\n",
        "test=int(input(\"請輸入一個正整數：\"))\n",
        "sum = 0\n",
        "for test in range(0,test,1):\n",
        "  sum=sum+test+1\n",
        "print(sum)\n",
        "test=int(input(\"請輸入一個正整數：\"))\n",
        "sum = 0\n",
        "for test in range(0,test,1):\n",
        "  sum=sum+test+1\n",
        "print(sum)\n"
      ],
      "metadata": {
        "colab": {
          "base_uri": "https://localhost:8080/"
        },
        "id": "l_KZ7HudMOg1",
        "outputId": "dae8cfbb-258f-47cd-9e6a-a8b1f86686a0"
      },
      "execution_count": 64,
      "outputs": [
        {
          "output_type": "stream",
          "name": "stdout",
          "text": [
            "請輸入一個正整數：10\n",
            "55\n",
            "請輸入一個正整數：9\n",
            "45\n",
            "請輸入一個正整數：8\n",
            "36\n",
            "請輸入一個正整數：7\n",
            "28\n",
            "請輸入一個正整數：6\n",
            "21\n",
            "請輸入一個正整數：5\n",
            "15\n",
            "請輸入一個正整數：4\n",
            "10\n",
            "請輸入一個正整數：3\n",
            "6\n",
            "請輸入一個正整數：2\n",
            "3\n",
            "請輸入一個正整數：1\n",
            "1\n"
          ]
        }
      ]
    }
  ]
}